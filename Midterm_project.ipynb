{
 "cells": [
  {
   "cell_type": "markdown",
   "metadata": {},
   "source": [
    "## Midterm Project\n",
    "\n",
    "\n",
    "You will demonstrate your ability to solve a classification task.\n",
    "\n",
    "The notebook that you submit *should follow the Recipe for Machine Learning* in addition to answering the questions."
   ]
  },
  {
   "cell_type": "markdown",
   "metadata": {},
   "source": [
    "# Objectives\n",
    "\n",
    "For the student to demonstrate mastery on solving a classification problem and presenting\n",
    "the entire Recipe for Machine Learning process in a notebook.\n",
    "\n",
    "There will be little explicit direction for this task.\n",
    "\n",
    "It is meant to be analagous to a pre-interview task that a potential employer might assign\n",
    "to verify your skill"
   ]
  },
  {
   "cell_type": "markdown",
   "metadata": {},
   "source": [
    "# The problem\n",
    "\n",
    "You are to predict whether a company will go bankrupt in the following year, based on financial attributes of the company.\n",
    "- Each row of data corresponds to a single company\n",
    "- There are 64 attributes, described in the section below\n",
    "- The last column (`Bankrupt`) is 1 if the company subsequently went bankrupt; 0 if it did not go bankrupt\n",
    "- The first column is a Company Identifier"
   ]
  },
  {
   "cell_type": "markdown",
   "metadata": {},
   "source": [
    "# The Data\n",
    "\n",
    "Here's the code to get the data."
   ]
  },
  {
   "cell_type": "code",
   "execution_count": 1,
   "metadata": {},
   "outputs": [],
   "source": [
    "import numpy as np\n",
    "import pandas as pd\n",
    "import seaborn as sns\n",
    "%matplotlib inline\n",
    "from scipy.io import arff\n",
    "from sklearn.preprocessing import Imputer\n",
    "#import fancyimpute\n",
    "from sklearn.model_selection import train_test_split,GridSearchCV,cross_val_score\n",
    "import matplotlib.pyplot as plt\n",
    "from sklearn.model_selection import KFold\n",
    "from sklearn.ensemble import RandomForestClassifier\n",
    "\n",
    "from sklearn.metrics import accuracy_score\n",
    "from sklearn.metrics import precision_score\n",
    "from sklearn.metrics import recall_score\n",
    "from sklearn.metrics import classification_report\n",
    "from sklearn.metrics import confusion_matrix\n",
    "from sklearn.metrics import roc_curve\n",
    "from sklearn.metrics import precision_recall_curve"
   ]
  },
  {
   "cell_type": "code",
   "execution_count": 2,
   "metadata": {},
   "outputs": [],
   "source": [
    "import os\n",
    "\n",
    "# Note the use of *relative path*; your assignments should all use relative rather than absolute paths\n",
    "DATA_PATH = \"./data\"\n",
    "\n",
    "data = pd.read_csv( os.path.join(DATA_PATH, \"bankruptcy_data.csv\") )"
   ]
  },
  {
   "cell_type": "code",
   "execution_count": 3,
   "metadata": {},
   "outputs": [
    {
     "data": {
      "text/html": [
       "<div>\n",
       "<style scoped>\n",
       "    .dataframe tbody tr th:only-of-type {\n",
       "        vertical-align: middle;\n",
       "    }\n",
       "\n",
       "    .dataframe tbody tr th {\n",
       "        vertical-align: top;\n",
       "    }\n",
       "\n",
       "    .dataframe thead th {\n",
       "        text-align: right;\n",
       "    }\n",
       "</style>\n",
       "<table border=\"1\" class=\"dataframe\">\n",
       "  <thead>\n",
       "    <tr style=\"text-align: right;\">\n",
       "      <th></th>\n",
       "      <th>Id</th>\n",
       "      <th>X1</th>\n",
       "      <th>X2</th>\n",
       "      <th>X3</th>\n",
       "      <th>X4</th>\n",
       "      <th>X5</th>\n",
       "      <th>X6</th>\n",
       "      <th>X7</th>\n",
       "      <th>X8</th>\n",
       "      <th>X9</th>\n",
       "      <th>...</th>\n",
       "      <th>X56</th>\n",
       "      <th>X57</th>\n",
       "      <th>X58</th>\n",
       "      <th>X59</th>\n",
       "      <th>X60</th>\n",
       "      <th>X61</th>\n",
       "      <th>X62</th>\n",
       "      <th>X63</th>\n",
       "      <th>X64</th>\n",
       "      <th>Bankrupt</th>\n",
       "    </tr>\n",
       "  </thead>\n",
       "  <tbody>\n",
       "    <tr>\n",
       "      <th>0</th>\n",
       "      <td>311</td>\n",
       "      <td>0.24181</td>\n",
       "      <td>0.22257</td>\n",
       "      <td>0.69576</td>\n",
       "      <td>4.1391</td>\n",
       "      <td>291.09</td>\n",
       "      <td>0</td>\n",
       "      <td>0.30179</td>\n",
       "      <td>3.493</td>\n",
       "      <td>1.0903</td>\n",
       "      <td>...</td>\n",
       "      <td>0.303190</td>\n",
       "      <td>0.31103</td>\n",
       "      <td>0.72340</td>\n",
       "      <td>0</td>\n",
       "      <td>11.346</td>\n",
       "      <td>1.4722</td>\n",
       "      <td>74.199</td>\n",
       "      <td>4.9192</td>\n",
       "      <td>13.199</td>\n",
       "      <td>0</td>\n",
       "    </tr>\n",
       "    <tr>\n",
       "      <th>1</th>\n",
       "      <td>592</td>\n",
       "      <td>0.22238</td>\n",
       "      <td>0.49951</td>\n",
       "      <td>0.18799</td>\n",
       "      <td>2.0738</td>\n",
       "      <td>34.422</td>\n",
       "      <td>0.67774</td>\n",
       "      <td>0.27241</td>\n",
       "      <td>0.95653</td>\n",
       "      <td>1.3843</td>\n",
       "      <td>...</td>\n",
       "      <td>0.277610</td>\n",
       "      <td>0.46544</td>\n",
       "      <td>0.72239</td>\n",
       "      <td>0.67903</td>\n",
       "      <td>11.762</td>\n",
       "      <td>6.6669</td>\n",
       "      <td>58.208</td>\n",
       "      <td>6.2706</td>\n",
       "      <td>1.7235</td>\n",
       "      <td>0</td>\n",
       "    </tr>\n",
       "    <tr>\n",
       "      <th>2</th>\n",
       "      <td>2051</td>\n",
       "      <td>0.18159</td>\n",
       "      <td>0</td>\n",
       "      <td>1</td>\n",
       "      <td>?</td>\n",
       "      <td>41.034</td>\n",
       "      <td>-0.50524</td>\n",
       "      <td>0.18159</td>\n",
       "      <td>?</td>\n",
       "      <td>5.2157</td>\n",
       "      <td>...</td>\n",
       "      <td>0.020505</td>\n",
       "      <td>0.18159</td>\n",
       "      <td>0.96588</td>\n",
       "      <td>0</td>\n",
       "      <td>12.467</td>\n",
       "      <td>9.2532</td>\n",
       "      <td>0.000</td>\n",
       "      <td>?</td>\n",
       "      <td>?</td>\n",
       "      <td>0</td>\n",
       "    </tr>\n",
       "    <tr>\n",
       "      <th>3</th>\n",
       "      <td>3230</td>\n",
       "      <td>0.030523</td>\n",
       "      <td>0.25841</td>\n",
       "      <td>0.053955</td>\n",
       "      <td>1.3421</td>\n",
       "      <td>2.9713</td>\n",
       "      <td>0.085922</td>\n",
       "      <td>0.045425</td>\n",
       "      <td>2.3036</td>\n",
       "      <td>1.0247</td>\n",
       "      <td>...</td>\n",
       "      <td>0.024082</td>\n",
       "      <td>0.051274</td>\n",
       "      <td>0.97592</td>\n",
       "      <td>0.16918</td>\n",
       "      <td>22.864</td>\n",
       "      <td>9.3064</td>\n",
       "      <td>54.945</td>\n",
       "      <td>6.643</td>\n",
       "      <td>1.3289</td>\n",
       "      <td>0</td>\n",
       "    </tr>\n",
       "    <tr>\n",
       "      <th>4</th>\n",
       "      <td>3377</td>\n",
       "      <td>0.005688</td>\n",
       "      <td>0.48642</td>\n",
       "      <td>-0.11828</td>\n",
       "      <td>0.75677</td>\n",
       "      <td>-53.123</td>\n",
       "      <td>-0.13066</td>\n",
       "      <td>0.005688</td>\n",
       "      <td>1.0558</td>\n",
       "      <td>2.2043</td>\n",
       "      <td>...</td>\n",
       "      <td>0.135840</td>\n",
       "      <td>0.011075</td>\n",
       "      <td>0.88498</td>\n",
       "      <td>0</td>\n",
       "      <td>14.034</td>\n",
       "      <td>10.87</td>\n",
       "      <td>80.521</td>\n",
       "      <td>4.533</td>\n",
       "      <td>3.4878</td>\n",
       "      <td>0</td>\n",
       "    </tr>\n",
       "  </tbody>\n",
       "</table>\n",
       "<p>5 rows × 66 columns</p>\n",
       "</div>"
      ],
      "text/plain": [
       "     Id        X1       X2        X3       X4       X5        X6        X7  \\\n",
       "0   311   0.24181  0.22257   0.69576   4.1391   291.09         0   0.30179   \n",
       "1   592   0.22238  0.49951   0.18799   2.0738   34.422   0.67774   0.27241   \n",
       "2  2051   0.18159        0         1        ?   41.034  -0.50524   0.18159   \n",
       "3  3230  0.030523  0.25841  0.053955   1.3421   2.9713  0.085922  0.045425   \n",
       "4  3377  0.005688  0.48642  -0.11828  0.75677  -53.123  -0.13066  0.005688   \n",
       "\n",
       "        X8      X9  ...       X56       X57      X58      X59     X60     X61  \\\n",
       "0    3.493  1.0903  ...  0.303190   0.31103  0.72340        0  11.346  1.4722   \n",
       "1  0.95653  1.3843  ...  0.277610   0.46544  0.72239  0.67903  11.762  6.6669   \n",
       "2        ?  5.2157  ...  0.020505   0.18159  0.96588        0  12.467  9.2532   \n",
       "3   2.3036  1.0247  ...  0.024082  0.051274  0.97592  0.16918  22.864  9.3064   \n",
       "4   1.0558  2.2043  ...  0.135840  0.011075  0.88498        0  14.034   10.87   \n",
       "\n",
       "      X62     X63     X64  Bankrupt  \n",
       "0  74.199  4.9192  13.199         0  \n",
       "1  58.208  6.2706  1.7235         0  \n",
       "2   0.000       ?       ?         0  \n",
       "3  54.945   6.643  1.3289         0  \n",
       "4  80.521   4.533  3.4878         0  \n",
       "\n",
       "[5 rows x 66 columns]"
      ]
     },
     "execution_count": 3,
     "metadata": {},
     "output_type": "execute_result"
    }
   ],
   "source": [
    "data.head()"
   ]
  },
  {
   "cell_type": "code",
   "execution_count": 4,
   "metadata": {},
   "outputs": [
    {
     "name": "stdout",
     "output_type": "stream",
     "text": [
      "<class 'pandas.core.frame.DataFrame'>\n",
      "RangeIndex: 4076 entries, 0 to 4075\n",
      "Data columns (total 66 columns):\n",
      "Id          4076 non-null int64\n",
      "X1          4076 non-null object\n",
      "X2          4076 non-null object\n",
      "X3          4076 non-null object\n",
      "X4          4076 non-null object\n",
      "X5          4076 non-null object\n",
      "X6          4076 non-null object\n",
      "X7          4076 non-null object\n",
      "X8          4076 non-null object\n",
      "X9          4076 non-null object\n",
      "X10         4076 non-null object\n",
      "X11         4076 non-null object\n",
      "X12         4076 non-null object\n",
      "X13         4076 non-null float64\n",
      "X14         4076 non-null object\n",
      "X15         4076 non-null object\n",
      "X16         4076 non-null object\n",
      "X17         4076 non-null object\n",
      "X18         4076 non-null object\n",
      "X19         4076 non-null float64\n",
      "X20         4076 non-null float64\n",
      "X21         4076 non-null object\n",
      "X22         4076 non-null object\n",
      "X23         4076 non-null float64\n",
      "X24         4076 non-null object\n",
      "X25         4076 non-null object\n",
      "X26         4076 non-null object\n",
      "X27         4076 non-null object\n",
      "X28         4076 non-null object\n",
      "X29         4076 non-null object\n",
      "X30         4076 non-null float64\n",
      "X31         4076 non-null float64\n",
      "X32         4076 non-null object\n",
      "X33         4076 non-null object\n",
      "X34         4076 non-null object\n",
      "X35         4076 non-null object\n",
      "X36         4076 non-null object\n",
      "X37         4076 non-null object\n",
      "X38         4076 non-null object\n",
      "X39         4076 non-null float64\n",
      "X40         4076 non-null object\n",
      "X41         4076 non-null object\n",
      "X42         4076 non-null float64\n",
      "X43         4076 non-null float64\n",
      "X44         4076 non-null float64\n",
      "X45         4076 non-null object\n",
      "X46         4076 non-null object\n",
      "X47         4076 non-null object\n",
      "X48         4076 non-null object\n",
      "X49         4076 non-null float64\n",
      "X50         4076 non-null object\n",
      "X51         4076 non-null object\n",
      "X52         4076 non-null object\n",
      "X53         4076 non-null object\n",
      "X54         4076 non-null object\n",
      "X55         4076 non-null float64\n",
      "X56         4076 non-null float64\n",
      "X57         4076 non-null object\n",
      "X58         4076 non-null float64\n",
      "X59         4076 non-null object\n",
      "X60         4076 non-null object\n",
      "X61         4076 non-null object\n",
      "X62         4076 non-null float64\n",
      "X63         4076 non-null object\n",
      "X64         4076 non-null object\n",
      "Bankrupt    4076 non-null int64\n",
      "dtypes: float64(15), int64(2), object(49)\n",
      "memory usage: 2.1+ MB\n"
     ]
    }
   ],
   "source": [
    "data.info()"
   ]
  },
  {
   "cell_type": "code",
   "execution_count": 5,
   "metadata": {},
   "outputs": [
    {
     "name": "stdout",
     "output_type": "stream",
     "text": [
      "<class 'pandas.core.frame.DataFrame'>\n",
      "Int64Index: 3107 entries, 0 to 4075\n",
      "Data columns (total 66 columns):\n",
      "Id          3107 non-null int64\n",
      "X1          3107 non-null object\n",
      "X2          3107 non-null object\n",
      "X3          3107 non-null object\n",
      "X4          3107 non-null object\n",
      "X5          3107 non-null object\n",
      "X6          3107 non-null object\n",
      "X7          3107 non-null object\n",
      "X8          3107 non-null object\n",
      "X9          3107 non-null object\n",
      "X10         3107 non-null object\n",
      "X11         3107 non-null object\n",
      "X12         3107 non-null object\n",
      "X13         3107 non-null float64\n",
      "X14         3107 non-null object\n",
      "X15         3107 non-null object\n",
      "X16         3107 non-null object\n",
      "X17         3107 non-null object\n",
      "X18         3107 non-null object\n",
      "X19         3107 non-null float64\n",
      "X20         3107 non-null float64\n",
      "X21         3107 non-null object\n",
      "X22         3107 non-null object\n",
      "X23         3107 non-null float64\n",
      "X24         3107 non-null object\n",
      "X25         3107 non-null object\n",
      "X26         3107 non-null object\n",
      "X27         3107 non-null object\n",
      "X28         3107 non-null object\n",
      "X29         3107 non-null object\n",
      "X30         3107 non-null float64\n",
      "X31         3107 non-null float64\n",
      "X32         3107 non-null object\n",
      "X33         3107 non-null object\n",
      "X34         3107 non-null object\n",
      "X35         3107 non-null object\n",
      "X36         3107 non-null object\n",
      "X37         3107 non-null object\n",
      "X38         3107 non-null object\n",
      "X39         3107 non-null float64\n",
      "X40         3107 non-null object\n",
      "X41         3107 non-null object\n",
      "X42         3107 non-null float64\n",
      "X43         3107 non-null float64\n",
      "X44         3107 non-null float64\n",
      "X45         3107 non-null object\n",
      "X46         3107 non-null object\n",
      "X47         3107 non-null object\n",
      "X48         3107 non-null object\n",
      "X49         3107 non-null float64\n",
      "X50         3107 non-null object\n",
      "X51         3107 non-null object\n",
      "X52         3107 non-null object\n",
      "X53         3107 non-null object\n",
      "X54         3107 non-null object\n",
      "X55         3107 non-null float64\n",
      "X56         3107 non-null float64\n",
      "X57         3107 non-null object\n",
      "X58         3107 non-null float64\n",
      "X59         3107 non-null object\n",
      "X60         3107 non-null object\n",
      "X61         3107 non-null object\n",
      "X62         3107 non-null float64\n",
      "X63         3107 non-null object\n",
      "X64         3107 non-null object\n",
      "Bankrupt    3107 non-null int64\n",
      "dtypes: float64(15), int64(2), object(49)\n",
      "memory usage: 1.6+ MB\n"
     ]
    }
   ],
   "source": [
    "#Remove duplicates\n",
    "data.drop_duplicates(inplace = True) \n",
    "data.info()"
   ]
  },
  {
   "cell_type": "code",
   "execution_count": 6,
   "metadata": {},
   "outputs": [
    {
     "data": {
      "text/html": [
       "<div>\n",
       "<style scoped>\n",
       "    .dataframe tbody tr th:only-of-type {\n",
       "        vertical-align: middle;\n",
       "    }\n",
       "\n",
       "    .dataframe tbody tr th {\n",
       "        vertical-align: top;\n",
       "    }\n",
       "\n",
       "    .dataframe thead th {\n",
       "        text-align: right;\n",
       "    }\n",
       "</style>\n",
       "<table border=\"1\" class=\"dataframe\">\n",
       "  <thead>\n",
       "    <tr style=\"text-align: right;\">\n",
       "      <th></th>\n",
       "      <th>Id</th>\n",
       "      <th>X13</th>\n",
       "      <th>X19</th>\n",
       "      <th>X20</th>\n",
       "      <th>X23</th>\n",
       "      <th>X30</th>\n",
       "      <th>X31</th>\n",
       "      <th>X39</th>\n",
       "      <th>X42</th>\n",
       "      <th>X43</th>\n",
       "      <th>X44</th>\n",
       "      <th>X49</th>\n",
       "      <th>X55</th>\n",
       "      <th>X56</th>\n",
       "      <th>X58</th>\n",
       "      <th>X62</th>\n",
       "      <th>Bankrupt</th>\n",
       "    </tr>\n",
       "  </thead>\n",
       "  <tbody>\n",
       "    <tr>\n",
       "      <th>count</th>\n",
       "      <td>3107.000000</td>\n",
       "      <td>3107.000000</td>\n",
       "      <td>3107.000000</td>\n",
       "      <td>3107.000000</td>\n",
       "      <td>3107.000000</td>\n",
       "      <td>3107.000000</td>\n",
       "      <td>3107.000000</td>\n",
       "      <td>3107.000000</td>\n",
       "      <td>3107.000000</td>\n",
       "      <td>3107.000000</td>\n",
       "      <td>3107.000000</td>\n",
       "      <td>3107.000000</td>\n",
       "      <td>3.107000e+03</td>\n",
       "      <td>3107.000000</td>\n",
       "      <td>3107.000000</td>\n",
       "      <td>3107.000000</td>\n",
       "      <td>3107.000000</td>\n",
       "    </tr>\n",
       "    <tr>\n",
       "      <th>mean</th>\n",
       "      <td>3116.645961</td>\n",
       "      <td>-0.135274</td>\n",
       "      <td>-0.186074</td>\n",
       "      <td>57.277489</td>\n",
       "      <td>-0.192498</td>\n",
       "      <td>1.224169</td>\n",
       "      <td>-0.147815</td>\n",
       "      <td>-0.007868</td>\n",
       "      <td>-0.061251</td>\n",
       "      <td>173.679019</td>\n",
       "      <td>116.401467</td>\n",
       "      <td>-0.112167</td>\n",
       "      <td>1.078597e+04</td>\n",
       "      <td>0.035035</td>\n",
       "      <td>0.978707</td>\n",
       "      <td>361.366703</td>\n",
       "      <td>0.131960</td>\n",
       "    </tr>\n",
       "    <tr>\n",
       "      <th>std</th>\n",
       "      <td>1780.610118</td>\n",
       "      <td>7.327641</td>\n",
       "      <td>7.350188</td>\n",
       "      <td>192.982914</td>\n",
       "      <td>7.314915</td>\n",
       "      <td>25.851850</td>\n",
       "      <td>7.089086</td>\n",
       "      <td>0.962377</td>\n",
       "      <td>2.912918</td>\n",
       "      <td>1038.386060</td>\n",
       "      <td>962.816250</td>\n",
       "      <td>2.963503</td>\n",
       "      <td>6.348214e+04</td>\n",
       "      <td>0.936503</td>\n",
       "      <td>1.080713</td>\n",
       "      <td>8571.476168</td>\n",
       "      <td>0.338502</td>\n",
       "    </tr>\n",
       "    <tr>\n",
       "      <th>min</th>\n",
       "      <td>0.000000</td>\n",
       "      <td>-310.340000</td>\n",
       "      <td>-310.800000</td>\n",
       "      <td>-29.340000</td>\n",
       "      <td>-310.890000</td>\n",
       "      <td>-16.110000</td>\n",
       "      <td>-310.800000</td>\n",
       "      <td>-47.047000</td>\n",
       "      <td>-143.520000</td>\n",
       "      <td>-3975.600000</td>\n",
       "      <td>-3946.200000</td>\n",
       "      <td>-144.800000</td>\n",
       "      <td>-2.955400e+05</td>\n",
       "      <td>-46.788000</td>\n",
       "      <td>-0.164390</td>\n",
       "      <td>-236.530000</td>\n",
       "      <td>0.000000</td>\n",
       "    </tr>\n",
       "    <tr>\n",
       "      <th>25%</th>\n",
       "      <td>1552.500000</td>\n",
       "      <td>0.019621</td>\n",
       "      <td>0.001816</td>\n",
       "      <td>18.246500</td>\n",
       "      <td>0.000663</td>\n",
       "      <td>0.091894</td>\n",
       "      <td>0.003906</td>\n",
       "      <td>0.002744</td>\n",
       "      <td>0.000000</td>\n",
       "      <td>76.301000</td>\n",
       "      <td>38.250500</td>\n",
       "      <td>-0.029594</td>\n",
       "      <td>2.954450e+01</td>\n",
       "      <td>0.007456</td>\n",
       "      <td>0.878775</td>\n",
       "      <td>46.156500</td>\n",
       "      <td>0.000000</td>\n",
       "    </tr>\n",
       "    <tr>\n",
       "      <th>50%</th>\n",
       "      <td>3111.000000</td>\n",
       "      <td>0.064121</td>\n",
       "      <td>0.032497</td>\n",
       "      <td>38.708000</td>\n",
       "      <td>0.027851</td>\n",
       "      <td>0.236380</td>\n",
       "      <td>0.039642</td>\n",
       "      <td>0.036684</td>\n",
       "      <td>0.036732</td>\n",
       "      <td>108.080000</td>\n",
       "      <td>59.014000</td>\n",
       "      <td>0.009318</td>\n",
       "      <td>1.660900e+03</td>\n",
       "      <td>0.049833</td>\n",
       "      <td>0.952840</td>\n",
       "      <td>76.244000</td>\n",
       "      <td>0.000000</td>\n",
       "    </tr>\n",
       "    <tr>\n",
       "      <th>75%</th>\n",
       "      <td>4718.500000</td>\n",
       "      <td>0.130220</td>\n",
       "      <td>0.085522</td>\n",
       "      <td>67.891000</td>\n",
       "      <td>0.072658</td>\n",
       "      <td>0.420080</td>\n",
       "      <td>0.094919</td>\n",
       "      <td>0.086618</td>\n",
       "      <td>0.086099</td>\n",
       "      <td>150.060000</td>\n",
       "      <td>85.296500</td>\n",
       "      <td>0.057076</td>\n",
       "      <td>7.457600e+03</td>\n",
       "      <td>0.121855</td>\n",
       "      <td>0.992760</td>\n",
       "      <td>122.640000</td>\n",
       "      <td>0.000000</td>\n",
       "    </tr>\n",
       "    <tr>\n",
       "      <th>max</th>\n",
       "      <td>5909.000000</td>\n",
       "      <td>78.190000</td>\n",
       "      <td>77.244000</td>\n",
       "      <td>9928.500000</td>\n",
       "      <td>77.244000</td>\n",
       "      <td>1236.700000</td>\n",
       "      <td>77.244000</td>\n",
       "      <td>2.901100</td>\n",
       "      <td>18.088000</td>\n",
       "      <td>40515.000000</td>\n",
       "      <td>40515.000000</td>\n",
       "      <td>16.866000</td>\n",
       "      <td>1.634200e+06</td>\n",
       "      <td>1.651000</td>\n",
       "      <td>47.788000</td>\n",
       "      <td>451380.000000</td>\n",
       "      <td>1.000000</td>\n",
       "    </tr>\n",
       "  </tbody>\n",
       "</table>\n",
       "</div>"
      ],
      "text/plain": [
       "                Id          X13          X19          X20          X23  \\\n",
       "count  3107.000000  3107.000000  3107.000000  3107.000000  3107.000000   \n",
       "mean   3116.645961    -0.135274    -0.186074    57.277489    -0.192498   \n",
       "std    1780.610118     7.327641     7.350188   192.982914     7.314915   \n",
       "min       0.000000  -310.340000  -310.800000   -29.340000  -310.890000   \n",
       "25%    1552.500000     0.019621     0.001816    18.246500     0.000663   \n",
       "50%    3111.000000     0.064121     0.032497    38.708000     0.027851   \n",
       "75%    4718.500000     0.130220     0.085522    67.891000     0.072658   \n",
       "max    5909.000000    78.190000    77.244000  9928.500000    77.244000   \n",
       "\n",
       "               X30          X31          X39          X42           X43  \\\n",
       "count  3107.000000  3107.000000  3107.000000  3107.000000   3107.000000   \n",
       "mean      1.224169    -0.147815    -0.007868    -0.061251    173.679019   \n",
       "std      25.851850     7.089086     0.962377     2.912918   1038.386060   \n",
       "min     -16.110000  -310.800000   -47.047000  -143.520000  -3975.600000   \n",
       "25%       0.091894     0.003906     0.002744     0.000000     76.301000   \n",
       "50%       0.236380     0.039642     0.036684     0.036732    108.080000   \n",
       "75%       0.420080     0.094919     0.086618     0.086099    150.060000   \n",
       "max    1236.700000    77.244000     2.901100    18.088000  40515.000000   \n",
       "\n",
       "                X44          X49           X55          X56          X58  \\\n",
       "count   3107.000000  3107.000000  3.107000e+03  3107.000000  3107.000000   \n",
       "mean     116.401467    -0.112167  1.078597e+04     0.035035     0.978707   \n",
       "std      962.816250     2.963503  6.348214e+04     0.936503     1.080713   \n",
       "min    -3946.200000  -144.800000 -2.955400e+05   -46.788000    -0.164390   \n",
       "25%       38.250500    -0.029594  2.954450e+01     0.007456     0.878775   \n",
       "50%       59.014000     0.009318  1.660900e+03     0.049833     0.952840   \n",
       "75%       85.296500     0.057076  7.457600e+03     0.121855     0.992760   \n",
       "max    40515.000000    16.866000  1.634200e+06     1.651000    47.788000   \n",
       "\n",
       "                 X62     Bankrupt  \n",
       "count    3107.000000  3107.000000  \n",
       "mean      361.366703     0.131960  \n",
       "std      8571.476168     0.338502  \n",
       "min      -236.530000     0.000000  \n",
       "25%        46.156500     0.000000  \n",
       "50%        76.244000     0.000000  \n",
       "75%       122.640000     0.000000  \n",
       "max    451380.000000     1.000000  "
      ]
     },
     "execution_count": 6,
     "metadata": {},
     "output_type": "execute_result"
    }
   ],
   "source": [
    "data.describe()"
   ]
  },
  {
   "cell_type": "markdown",
   "metadata": {},
   "source": [
    "# Description of attributes"
   ]
  },
  {
   "cell_type": "raw",
   "metadata": {},
   "source": [
    "Attribute Information:\n",
    "\n",
    "Id Company Identifier \n",
    "X1 net profit / total assets\n",
    "X2 total liabilities / total assets\n",
    "X3 working capital / total assets\n",
    "X4 current assets / short-term liabilities\n",
    "X5 [(cash + short-term securities + receivables - short-term liabilities) / (operating expenses - depreciation)] * 365\n",
    "X6 retained earnings / total assets\n",
    "X7 EBIT / total assets\n",
    "X8 book value of equity / total liabilities\n",
    "X9 sales / total assets\n",
    "X10 equity / total assets\n",
    "X11 (gross profit + extraordinary items + financial expenses) / total assets\n",
    "X12 gross profit / short-term liabilities\n",
    "X13 (gross profit + depreciation) / sales\n",
    "X14 (gross profit + interest) / total assets\n",
    "X15 (total liabilities * 365) / (gross profit + depreciation)\n",
    "X16 (gross profit + depreciation) / total liabilities\n",
    "X17 total assets / total liabilities\n",
    "X18 gross profit / total assets\n",
    "X19 gross profit / sales\n",
    "X20 (inventory * 365) / sales\n",
    "X21 sales (n) / sales (n-1)\n",
    "X22 profit on operating activities / total assets\n",
    "X23 net profit / sales\n",
    "X24 gross profit (in 3 years) / total assets\n",
    "X25 (equity - share capital) / total assets\n",
    "X26 (net profit + depreciation) / total liabilities\n",
    "X27 profit on operating activities / financial expenses\n",
    "X28 working capital / fixed assets\n",
    "X29 logarithm of total assets\n",
    "X30 (total liabilities - cash) / sales\n",
    "X31 (gross profit + interest) / sales\n",
    "X32 (current liabilities * 365) / cost of products sold\n",
    "X33 operating expenses / short-term liabilities\n",
    "X34 operating expenses / total liabilities\n",
    "X35 profit on sales / total assets\n",
    "X36 total sales / total assets\n",
    "X37 (current assets - inventories) / long-term liabilities\n",
    "X38 constant capital / total assets\n",
    "X39 profit on sales / sales\n",
    "X40 (current assets - inventory - receivables) / short-term liabilities\n",
    "X41 total liabilities / ((profit on operating activities + depreciation) * (12/365))\n",
    "X42 profit on operating activities / sales\n",
    "X43 rotation receivables + inventory turnover in days\n",
    "X44 (receivables * 365) / sales\n",
    "X45 net profit / inventory\n",
    "X46 (current assets - inventory) / short-term liabilities\n",
    "X47 (inventory * 365) / cost of products sold\n",
    "X48 EBITDA (profit on operating activities - depreciation) / total assets\n",
    "X49 EBITDA (profit on operating activities - depreciation) / sales\n",
    "X50 current assets / total liabilities\n",
    "X51 short-term liabilities / total assets\n",
    "X52 (short-term liabilities * 365) / cost of products sold)\n",
    "X53 equity / fixed assets\n",
    "X54 constant capital / fixed assets\n",
    "X55 working capital\n",
    "X56 (sales - cost of products sold) / sales\n",
    "X57 (current assets - inventory - short-term liabilities) / (sales - gross profit - depreciation)\n",
    "X58 total costs /total sales\n",
    "X59 long-term liabilities / equity\n",
    "X60 sales / inventory\n",
    "X61 sales / receivables\n",
    "X62 (short-term liabilities *365) / sales\n",
    "X63 sales / short-term liabilities\n",
    "X64 sales / fixed assets\n"
   ]
  },
  {
   "cell_type": "code",
   "execution_count": 7,
   "metadata": {
    "scrolled": true
   },
   "outputs": [
    {
     "name": "stdout",
     "output_type": "stream",
     "text": [
      "<class 'pandas.core.frame.DataFrame'>\n",
      "Int64Index: 3107 entries, 0 to 4075\n",
      "Data columns (total 66 columns):\n",
      "Id          3107 non-null int64\n",
      "X1          3104 non-null float64\n",
      "X2          3104 non-null float64\n",
      "X3          3104 non-null float64\n",
      "X4          3093 non-null float64\n",
      "X5          3102 non-null float64\n",
      "X6          3104 non-null float64\n",
      "X7          3104 non-null float64\n",
      "X8          3094 non-null float64\n",
      "X9          3106 non-null float64\n",
      "X10         3104 non-null float64\n",
      "X11         3104 non-null float64\n",
      "X12         3093 non-null float64\n",
      "X13         3107 non-null float64\n",
      "X14         3104 non-null float64\n",
      "X15         3102 non-null float64\n",
      "X16         3094 non-null float64\n",
      "X17         3094 non-null float64\n",
      "X18         3104 non-null float64\n",
      "X19         3107 non-null float64\n",
      "X20         3107 non-null float64\n",
      "X21         3006 non-null float64\n",
      "X22         3104 non-null float64\n",
      "X23         3107 non-null float64\n",
      "X24         3046 non-null float64\n",
      "X25         3104 non-null float64\n",
      "X26         3094 non-null float64\n",
      "X27         2854 non-null float64\n",
      "X28         3051 non-null float64\n",
      "X29         3104 non-null float64\n",
      "X30         3107 non-null float64\n",
      "X31         3107 non-null float64\n",
      "X32         3087 non-null float64\n",
      "X33         3093 non-null float64\n",
      "X34         3094 non-null float64\n",
      "X35         3104 non-null float64\n",
      "X36         3104 non-null float64\n",
      "X37         1757 non-null float64\n",
      "X38         3104 non-null float64\n",
      "X39         3107 non-null float64\n",
      "X40         3093 non-null float64\n",
      "X41         3065 non-null float64\n",
      "X42         3107 non-null float64\n",
      "X43         3107 non-null float64\n",
      "X44         3107 non-null float64\n",
      "X45         2951 non-null float64\n",
      "X46         3093 non-null float64\n",
      "X47         3091 non-null float64\n",
      "X48         3104 non-null float64\n",
      "X49         3107 non-null float64\n",
      "X50         3094 non-null float64\n",
      "X51         3104 non-null float64\n",
      "X52         3091 non-null float64\n",
      "X53         3051 non-null float64\n",
      "X54         3051 non-null float64\n",
      "X55         3107 non-null float64\n",
      "X56         3107 non-null float64\n",
      "X57         3105 non-null float64\n",
      "X58         3107 non-null float64\n",
      "X59         3105 non-null float64\n",
      "X60         2951 non-null float64\n",
      "X61         3098 non-null float64\n",
      "X62         3107 non-null float64\n",
      "X63         3093 non-null float64\n",
      "X64         3051 non-null float64\n",
      "Bankrupt    3107 non-null int64\n",
      "dtypes: float64(64), int64(2)\n",
      "memory usage: 1.6 MB\n"
     ]
    }
   ],
   "source": [
    "data=data.replace('?',np.nan)\n",
    "for i in range(1,65):\n",
    "     data[data.columns[i]]=data[data.columns[i]].astype('float64')\n",
    "data.info()"
   ]
  },
  {
   "cell_type": "code",
   "execution_count": 8,
   "metadata": {},
   "outputs": [],
   "source": [
    "x=data.drop(['Id','Bankrupt'],axis=1)\n",
    "y=data.Bankrupt"
   ]
  },
  {
   "cell_type": "markdown",
   "metadata": {},
   "source": [
    "# Feature Selection"
   ]
  },
  {
   "cell_type": "markdown",
   "metadata": {},
   "source": [
    "## 1.Missing Values\n",
    "- Fill missing value with median."
   ]
  },
  {
   "cell_type": "code",
   "execution_count": 9,
   "metadata": {
    "scrolled": true
   },
   "outputs": [
    {
     "data": {
      "text/plain": [
       "Index(['X1', 'X2', 'X3', 'X4', 'X5', 'X6', 'X7', 'X8', 'X9', 'X10', 'X11',\n",
       "       'X12', 'X14', 'X15', 'X16', 'X17', 'X18', 'X21', 'X22', 'X24', 'X25',\n",
       "       'X26', 'X27', 'X28', 'X29', 'X32', 'X33', 'X34', 'X35', 'X36', 'X37',\n",
       "       'X38', 'X40', 'X41', 'X45', 'X46', 'X47', 'X48', 'X50', 'X51', 'X52',\n",
       "       'X53', 'X54', 'X57', 'X59', 'X60', 'X61', 'X63', 'X64'],\n",
       "      dtype='object')"
      ]
     },
     "execution_count": 9,
     "metadata": {},
     "output_type": "execute_result"
    }
   ],
   "source": [
    "#Check columns has missing value\n",
    "list_has_NAN=x.columns[x.isnull().any()].tolist()\n",
    "x.columns[x.isnull().any()]"
   ]
  },
  {
   "cell_type": "code",
   "execution_count": 10,
   "metadata": {},
   "outputs": [
    {
     "name": "stdout",
     "output_type": "stream",
     "text": [
      "(3107, 64)\n",
      "<class 'pandas.core.frame.DataFrame'>\n",
      "RangeIndex: 3107 entries, 0 to 3106\n",
      "Data columns (total 64 columns):\n",
      "X1     3107 non-null float64\n",
      "X2     3107 non-null float64\n",
      "X3     3107 non-null float64\n",
      "X4     3107 non-null float64\n",
      "X5     3107 non-null float64\n",
      "X6     3107 non-null float64\n",
      "X7     3107 non-null float64\n",
      "X8     3107 non-null float64\n",
      "X9     3107 non-null float64\n",
      "X10    3107 non-null float64\n",
      "X11    3107 non-null float64\n",
      "X12    3107 non-null float64\n",
      "X13    3107 non-null float64\n",
      "X14    3107 non-null float64\n",
      "X15    3107 non-null float64\n",
      "X16    3107 non-null float64\n",
      "X17    3107 non-null float64\n",
      "X18    3107 non-null float64\n",
      "X19    3107 non-null float64\n",
      "X20    3107 non-null float64\n",
      "X21    3107 non-null float64\n",
      "X22    3107 non-null float64\n",
      "X23    3107 non-null float64\n",
      "X24    3107 non-null float64\n",
      "X25    3107 non-null float64\n",
      "X26    3107 non-null float64\n",
      "X27    3107 non-null float64\n",
      "X28    3107 non-null float64\n",
      "X29    3107 non-null float64\n",
      "X30    3107 non-null float64\n",
      "X31    3107 non-null float64\n",
      "X32    3107 non-null float64\n",
      "X33    3107 non-null float64\n",
      "X34    3107 non-null float64\n",
      "X35    3107 non-null float64\n",
      "X36    3107 non-null float64\n",
      "X37    3107 non-null float64\n",
      "X38    3107 non-null float64\n",
      "X39    3107 non-null float64\n",
      "X40    3107 non-null float64\n",
      "X41    3107 non-null float64\n",
      "X42    3107 non-null float64\n",
      "X43    3107 non-null float64\n",
      "X44    3107 non-null float64\n",
      "X45    3107 non-null float64\n",
      "X46    3107 non-null float64\n",
      "X47    3107 non-null float64\n",
      "X48    3107 non-null float64\n",
      "X49    3107 non-null float64\n",
      "X50    3107 non-null float64\n",
      "X51    3107 non-null float64\n",
      "X52    3107 non-null float64\n",
      "X53    3107 non-null float64\n",
      "X54    3107 non-null float64\n",
      "X55    3107 non-null float64\n",
      "X56    3107 non-null float64\n",
      "X57    3107 non-null float64\n",
      "X58    3107 non-null float64\n",
      "X59    3107 non-null float64\n",
      "X60    3107 non-null float64\n",
      "X61    3107 non-null float64\n",
      "X62    3107 non-null float64\n",
      "X63    3107 non-null float64\n",
      "X64    3107 non-null float64\n",
      "dtypes: float64(64)\n",
      "memory usage: 1.5 MB\n",
      "None\n"
     ]
    }
   ],
   "source": [
    "from sklearn.base import BaseEstimator, TransformerMixin\n",
    "\n",
    "# A class to select numerical or categorical columns \n",
    "# since Scikit-Learn doesn't handle DataFrames yet\n",
    "class DataFrameSelector(BaseEstimator, TransformerMixin):\n",
    "    def __init__(self, attribute_names):\n",
    "        self.attribute_names = attribute_names\n",
    "    def fit(self, X, y=None):\n",
    "        return self\n",
    "    def transform(self, X):\n",
    "        return X[self.attribute_names]\n",
    "\n",
    "from sklearn.pipeline import Pipeline\n",
    "try:\n",
    "    from sklearn.impute import SimpleImputer # Scikit-Learn 0.20+\n",
    "except ImportError:\n",
    "    from sklearn.preprocessing import Imputer as SimpleImputer\n",
    "\n",
    "\n",
    "num_pipeline = Pipeline([\n",
    "        (\"select_numeric\", DataFrameSelector( x.columns )),\n",
    "        (\"imputer\", SimpleImputer(strategy=\"median\")),\n",
    "    ])\n",
    "\n",
    "x_new = num_pipeline.fit_transform(x)\n",
    "print(x_new.shape)\n",
    "\n",
    "x=pd.DataFrame(data=x_new,columns=x.columns)  \n",
    "print(x.info())"
   ]
  },
  {
   "cell_type": "markdown",
   "metadata": {},
   "source": [
    "## 2. Remove  features with low variance\n",
    "- By default it removes features with zero variance or features that have the same value for all samples."
   ]
  },
  {
   "cell_type": "code",
   "execution_count": 11,
   "metadata": {},
   "outputs": [
    {
     "name": "stdout",
     "output_type": "stream",
     "text": [
      "(3107, 64)\n",
      "Index(['X1', 'X2', 'X3', 'X4', 'X5', 'X6', 'X7', 'X8', 'X9', 'X10', 'X11',\n",
      "       'X12', 'X13', 'X14', 'X15', 'X16', 'X17', 'X18', 'X19', 'X20', 'X21',\n",
      "       'X22', 'X23', 'X24', 'X25', 'X26', 'X27', 'X28', 'X29', 'X30', 'X31',\n",
      "       'X32', 'X33', 'X34', 'X35', 'X36', 'X37', 'X38', 'X39', 'X40', 'X41',\n",
      "       'X42', 'X43', 'X44', 'X45', 'X46', 'X47', 'X48', 'X49', 'X50', 'X51',\n",
      "       'X52', 'X53', 'X54', 'X55', 'X56', 'X57', 'X58', 'X59', 'X60', 'X61',\n",
      "       'X62', 'X63', 'X64'],\n",
      "      dtype='object')\n"
     ]
    }
   ],
   "source": [
    "from sklearn import feature_selection\n",
    "\n",
    "def Remove_low_variance(df):\n",
    "    #remove the features that have the same value in all samples.\n",
    "    selection = feature_selection.VarianceThreshold()\n",
    "    apply_filter = selection.fit_transform(df)\n",
    "    print(apply_filter.shape)\n",
    "    print(x.columns[selection.get_support()])\n",
    "    return x.columns[selection.get_support()].tolist()\n",
    "\n",
    "selected_features=Remove_low_variance(x) "
   ]
  },
  {
   "cell_type": "markdown",
   "metadata": {},
   "source": [
    "- None of features has same value"
   ]
  },
  {
   "cell_type": "markdown",
   "metadata": {},
   "source": [
    "## 3. Remove highly correlated features\n",
    "- Features that are highly correlated or colinear can cause overfitting."
   ]
  },
  {
   "cell_type": "code",
   "execution_count": 12,
   "metadata": {},
   "outputs": [
    {
     "name": "stdout",
     "output_type": "stream",
     "text": [
      "Bankrupt    1.000000\n",
      "Id          0.566751\n",
      "X29         0.211505\n",
      "X2          0.145366\n",
      "X51         0.135866\n",
      "X3          0.132253\n",
      "X39         0.095564\n",
      "X56         0.083464\n",
      "X32         0.078735\n",
      "X55         0.073845\n",
      "X45         0.073682\n",
      "X20         0.071124\n",
      "X58         0.067541\n",
      "X57         0.067159\n",
      "X43         0.064152\n",
      "X6          0.062184\n",
      "X33         0.060026\n",
      "X16         0.059250\n",
      "X26         0.058725\n",
      "X18         0.057448\n",
      "Name: Bankrupt, dtype: float64\n"
     ]
    }
   ],
   "source": [
    "# find correlations to target\n",
    "corr_matrix = data.corr().abs()\n",
    "print(corr_matrix['Bankrupt'].sort_values(ascending=False).head(20))"
   ]
  },
  {
   "cell_type": "code",
   "execution_count": 13,
   "metadata": {},
   "outputs": [
    {
     "data": {
      "text/plain": [
       "<matplotlib.axes._subplots.AxesSubplot at 0x1a2048d4e0>"
      ]
     },
     "execution_count": 13,
     "metadata": {},
     "output_type": "execute_result"
    },
    {
     "data": {
      "image/png": "[encoded data removed]",
      "text/plain": [
       "<Figure size 1440x1440 with 2 Axes>"
      ]
     },
     "metadata": {
      "needs_background": "light"
     },
     "output_type": "display_data"
    }
   ],
   "source": [
    "matrix = x.corr()\n",
    "fig, ax = plt.subplots(figsize=(20,20))\n",
    "sns.heatmap(matrix, vmax=1.0, center=0,\n",
    "                square=True,cmap='coolwarm')"
   ]
  },
  {
   "cell_type": "code",
   "execution_count": 14,
   "metadata": {},
   "outputs": [
    {
     "name": "stdout",
     "output_type": "stream",
     "text": [
      "deleted column: {'X54', 'X35', 'X22', 'X19', 'X36', 'X10', 'X30', 'X24', 'X17', 'X49', 'X34', 'X7', 'X31', 'X42', 'X46', 'X64', 'X44', 'X50', 'X23', 'X26', 'X3', 'X63', 'X14', 'X48', 'X52', 'X53', 'X6', 'X58', 'X25', 'X18', 'X51', 'X38', 'X40', 'X56', 'X11', 'X62'}\n",
      "<class 'pandas.core.frame.DataFrame'>\n",
      "RangeIndex: 3107 entries, 0 to 3106\n",
      "Data columns (total 28 columns):\n",
      "X1     3107 non-null float64\n",
      "X2     3107 non-null float64\n",
      "X4     3107 non-null float64\n",
      "X5     3107 non-null float64\n",
      "X8     3107 non-null float64\n",
      "X9     3107 non-null float64\n",
      "X12    3107 non-null float64\n",
      "X13    3107 non-null float64\n",
      "X15    3107 non-null float64\n",
      "X16    3107 non-null float64\n",
      "X20    3107 non-null float64\n",
      "X21    3107 non-null float64\n",
      "X27    3107 non-null float64\n",
      "X28    3107 non-null float64\n",
      "X29    3107 non-null float64\n",
      "X32    3107 non-null float64\n",
      "X33    3107 non-null float64\n",
      "X37    3107 non-null float64\n",
      "X39    3107 non-null float64\n",
      "X41    3107 non-null float64\n",
      "X43    3107 non-null float64\n",
      "X45    3107 non-null float64\n",
      "X47    3107 non-null float64\n",
      "X55    3107 non-null float64\n",
      "X57    3107 non-null float64\n",
      "X59    3107 non-null float64\n",
      "X60    3107 non-null float64\n",
      "X61    3107 non-null float64\n",
      "dtypes: float64(28)\n",
      "memory usage: 679.7 KB\n",
      "None\n"
     ]
    }
   ],
   "source": [
    "threshold=0.5\n",
    "def remove_high_correlated_feature(df):\n",
    "        data_feature=df\n",
    "        matrix = data_feature.corr().abs()\n",
    "        col_corr = set() # Set of all the names of deleted columns\n",
    "        for i in range(len(matrix.columns)):\n",
    "            for j in range(i):\n",
    "                if (matrix.iloc[i, j] >= threshold) and (matrix.columns[j] not in col_corr):\n",
    "                    colname = matrix.columns[i] # getting the name of column\n",
    "                    col_corr.add(colname)\n",
    "                    if colname in data_feature.columns:\n",
    "                        del data_feature[colname] # deleting the column from the dataset\n",
    "        \n",
    "        print('deleted column:',col_corr)\n",
    "        return data_feature\n",
    "      \n",
    "x=remove_high_correlated_feature(x)\n",
    "print(x.info()) # Print left columns after remove high correlated features"
   ]
  },
  {
   "cell_type": "markdown",
   "metadata": {},
   "source": [
    "## 4.Feature Importance\n",
    "- Use two models to select important features"
   ]
  },
  {
   "cell_type": "code",
   "execution_count": 15,
   "metadata": {},
   "outputs": [
    {
     "name": "stdout",
     "output_type": "stream",
     "text": [
      "Feature Importance ranking:\n",
      "('X1', 0.07042527802675164)\n",
      "('X2', 0.058681733696388044)\n",
      "('X4', 0.031000917122963836)\n",
      "('X5', 0.026635757437218535)\n",
      "('X8', 0.02849651159297877)\n",
      "('X9', 0.03371887694254459)\n",
      "('X12', 0.03047572399489555)\n",
      "('X13', 0.03711268953028534)\n",
      "('X15', 0.031049286047247212)\n",
      "('X16', 0.03458478376054046)\n",
      "('X20', 0.02999547191717638)\n",
      "('X21', 0.03947194667635481)\n",
      "('X27', 0.03564747176040093)\n",
      "('X28', 0.02836259420873602)\n",
      "('X29', 0.054791653145216036)\n",
      "('X32', 0.03537431720685703)\n",
      "('X33', 0.032909225171610955)\n",
      "('X37', 0.023851961058612932)\n",
      "('X39', 0.06285995418680349)\n",
      "('X41', 0.027232941460239045)\n",
      "('X43', 0.030800683480008334)\n",
      "('X45', 0.03237019537534483)\n",
      "('X47', 0.023320117540474198)\n",
      "('X55', 0.037627562953581425)\n",
      "('X57', 0.04620430944614228)\n",
      "('X59', 0.02301017344954688)\n",
      "('X60', 0.024213088379574695)\n",
      "('X61', 0.029774774431505748)\n"
     ]
    },
    {
     "data": {
      "image/png": "[encoded data removed]",
      "text/plain": [
       "<Figure size 432x288 with 1 Axes>"
      ]
     },
     "metadata": {
      "needs_background": "light"
     },
     "output_type": "display_data"
    },
    {
     "name": "stdout",
     "output_type": "stream",
     "text": [
      "<class 'pandas.core.frame.DataFrame'>\n",
      "RangeIndex: 3107 entries, 0 to 3106\n",
      "Data columns (total 10 columns):\n",
      "X1     3107 non-null float64\n",
      "X39    3107 non-null float64\n",
      "X2     3107 non-null float64\n",
      "X29    3107 non-null float64\n",
      "X57    3107 non-null float64\n",
      "X21    3107 non-null float64\n",
      "X55    3107 non-null float64\n",
      "X13    3107 non-null float64\n",
      "X27    3107 non-null float64\n",
      "X32    3107 non-null float64\n",
      "dtypes: float64(10)\n",
      "memory usage: 242.8 KB\n"
     ]
    }
   ],
   "source": [
    "from sklearn.ensemble import ExtraTreesClassifier\n",
    "# feature extraction using top 10 importance\n",
    "\n",
    "model_1= ExtraTreesClassifier(n_estimators=200,random_state=0)\n",
    "\n",
    "def feature_selection(x_df, y_df, model):\n",
    "        model.fit(x_df, y_df)\n",
    "        importances = model.feature_importances_\n",
    "        \n",
    "        feat_importances = pd.Series(importances,index=x_df.columns)\n",
    "        selected_feature=feat_importances.nlargest(10).index.tolist()\n",
    "        \n",
    "        x_df_new=x_df[selected_feature]\n",
    "\n",
    "        print(\"Feature Importance ranking:\")\n",
    "\n",
    "        for feature in zip(x.columns, model.feature_importances_):\n",
    "            print(feature)\n",
    "        \n",
    "        plt.figure()\n",
    "        plt.title(\"Feature importances\")\n",
    "        feat_importances.nlargest(10).plot(kind='barh')\n",
    "        plt.show()\n",
    "        \n",
    "        \n",
    "        return x_df_new\n",
    "\n",
    "x_1=feature_selection(x,y,model_1)\n",
    "x_1.info()"
   ]
  },
  {
   "cell_type": "code",
   "execution_count": 16,
   "metadata": {},
   "outputs": [
    {
     "name": "stdout",
     "output_type": "stream",
     "text": [
      "Feature Importance ranking:\n",
      "('X1', 0.04548358612700591)\n",
      "('X2', 0.023453741164838858)\n",
      "('X4', 0.032516560504828776)\n",
      "('X5', 0.025724161575589023)\n",
      "('X8', 0.028626208554792403)\n",
      "('X9', 0.030815209947007084)\n",
      "('X12', 0.033584486972191026)\n",
      "('X13', 0.05038932485793891)\n",
      "('X15', 0.04389607931952446)\n",
      "('X16', 0.04305245139923575)\n",
      "('X20', 0.01991563465190338)\n",
      "('X21', 0.055182279803890955)\n",
      "('X27', 0.06186965914247862)\n",
      "('X28', 0.03951539452468673)\n",
      "('X29', 0.036331027030744076)\n",
      "('X32', 0.024787306006167194)\n",
      "('X33', 0.02447858679562356)\n",
      "('X37', 0.0164387079362834)\n",
      "('X39', 0.07861567732864005)\n",
      "('X41', 0.078001184545001)\n",
      "('X43', 0.028210513096114314)\n",
      "('X45', 0.03139972528643396)\n",
      "('X47', 0.01877626940103194)\n",
      "('X55', 0.038067734623178535)\n",
      "('X57', 0.028610663584967406)\n",
      "('X59', 0.01448493047418253)\n",
      "('X60', 0.021688156245696057)\n",
      "('X61', 0.026084739100023964)\n"
     ]
    },
    {
     "data": {
      "image/png": "[encoded data removed]",
      "text/plain": [
       "<Figure size 432x288 with 1 Axes>"
      ]
     },
     "metadata": {
      "needs_background": "light"
     },
     "output_type": "display_data"
    },
    {
     "name": "stdout",
     "output_type": "stream",
     "text": [
      "<class 'pandas.core.frame.DataFrame'>\n",
      "RangeIndex: 3107 entries, 0 to 3106\n",
      "Data columns (total 10 columns):\n",
      "X39    3107 non-null float64\n",
      "X41    3107 non-null float64\n",
      "X27    3107 non-null float64\n",
      "X21    3107 non-null float64\n",
      "X13    3107 non-null float64\n",
      "X1     3107 non-null float64\n",
      "X15    3107 non-null float64\n",
      "X16    3107 non-null float64\n",
      "X28    3107 non-null float64\n",
      "X55    3107 non-null float64\n",
      "dtypes: float64(10)\n",
      "memory usage: 242.8 KB\n"
     ]
    }
   ],
   "source": [
    "model_2=RandomForestClassifier(n_estimators=400, random_state=0, n_jobs=-1)\n",
    "x_2=feature_selection(x,y,model_2)\n",
    "x_2.info()"
   ]
  },
  {
   "cell_type": "markdown",
   "metadata": {},
   "source": [
    "# Fitting Models\n",
    "### 1. Calculate Cross Validation Score and Accuracy Score"
   ]
  },
  {
   "cell_type": "code",
   "execution_count": 17,
   "metadata": {},
   "outputs": [
    {
     "name": "stdout",
     "output_type": "stream",
     "text": [
      "Model: Random Forest avg cross val score=0.91 accuracy=0.89\n",
      "\n",
      "Model: GradientBoosting avg cross val score=0.91 accuracy=0.92\n",
      "\n",
      "Model: DecisionTree avg cross val score=0.87 accuracy=0.90\n",
      "\n"
     ]
    }
   ],
   "source": [
    "from sklearn.ensemble import RandomForestClassifier\n",
    "forest_clf = RandomForestClassifier(n_estimators=400, random_state=42, class_weight=\"balanced\")\n",
    "\n",
    "from sklearn.ensemble import GradientBoostingClassifier\n",
    "gb_clf = GradientBoostingClassifier(n_estimators=400, random_state=42)\n",
    "\n",
    "from sklearn.tree import DecisionTreeClassifier\n",
    "dt_clf = DecisionTreeClassifier(random_state=42)\n",
    "\n",
    "\n",
    "#Data Split into train and test\n",
    "x_train_v1, x_test_v1, y_train_v1, y_test_v1 = train_test_split(\n",
    "    x_2, y, test_size=0.2, random_state=1)\n",
    "\n",
    "\n",
    "for name, clf in { \"Random Forest\": forest_clf,\n",
    "                   \"GradientBoosting\":gb_clf,\n",
    "                   \"DecisionTree\":dt_clf\n",
    "                 }.items():\n",
    "    \n",
    "    _= clf.fit(x_train_v1, y_train_v1)\n",
    "    \n",
    "    #X_test = preprocess_pipeline.transform(test_data)\n",
    "    y_pred = clf.predict(x_test_v1)\n",
    "\n",
    "    scores = cross_val_score(clf, x_train_v1, y_train_v1, cv=10)\n",
    "    accuracy=accuracy_score(y_test_v1,y_pred,normalize=True)\n",
    "    \n",
    "    print(\"Model: {m:s} avg cross val score={s:3.2f} accuracy={a:3.2f}\\n\".format(m=name, s=scores.mean(), a=accuracy))"
   ]
  },
  {
   "cell_type": "markdown",
   "metadata": {},
   "source": [
    "### 2. Confusion Matrix"
   ]
  },
  {
   "cell_type": "code",
   "execution_count": 18,
   "metadata": {},
   "outputs": [],
   "source": [
    "import itertools\n",
    "\n",
    "def plot_confusion_matrix(cm, classes,\n",
    "                          normalize=False,\n",
    "                          title='Confusion matrix',\n",
    "                          cmap=plt.cm.Blues):\n",
    "    \"\"\"\n",
    "    This function prints and plots the confusion matrix.\n",
    "    Normalization can be applied by setting `normalize=True`.\n",
    "    \"\"\"\n",
    "    if normalize:\n",
    "        # Normalize by row sums\n",
    "        cm_pct = cm.astype('float') / cm.sum(axis=1)[:, np.newaxis]\n",
    "        cm = np.around(100 * cm_pct, decimals=0).astype(int)\n",
    "\n",
    "        print(\"Normalized confusion matrix\")\n",
    "    else:\n",
    "        print('Confusion matrix, without normalization')\n",
    "\n",
    "    plt.imshow(cm, interpolation='nearest', cmap=cmap)\n",
    "    plt.title(title)\n",
    "    plt.colorbar()\n",
    "    tick_marks = np.arange(len(classes))\n",
    "    plt.xticks(tick_marks, classes, rotation=45)\n",
    "    plt.yticks(tick_marks, classes)\n",
    "\n",
    "    fmt = '.2f' if normalize else 'd'\n",
    "    fmt = 'd'\n",
    "    thresh = cm.max() / 2.\n",
    "    for i, j in itertools.product(range(cm.shape[0]), range(cm.shape[1])):\n",
    "        # Plot coordinate system has origin in upper left corner\n",
    "        # -  coordinates are (horizontal offset, vertical offset)\n",
    "        # -  so cm[i,j] should appear in plot coordinate (j,i)\n",
    "        plt.text(j, i, format(cm[i, j], fmt),\n",
    "                 horizontalalignment=\"center\",\n",
    "                 color=\"white\" if cm[i, j] > thresh else \"black\")\n",
    "\n",
    "    plt.ylabel('True label')\n",
    "    plt.xlabel('Predicted label')\n",
    "    plt.tight_layout()"
   ]
  },
  {
   "cell_type": "markdown",
   "metadata": {},
   "source": [
    "### 2.1 Confusion Matrix - Random Forest"
   ]
  },
  {
   "cell_type": "code",
   "execution_count": 19,
   "metadata": {},
   "outputs": [
    {
     "name": "stdout",
     "output_type": "stream",
     "text": [
      "Normalized confusion matrix\n",
      "              precision    recall  f1-score   support\n",
      "\n",
      "           0       0.91      0.97      0.94       544\n",
      "           1       0.65      0.33      0.44        78\n",
      "\n",
      "    accuracy                           0.89       622\n",
      "   macro avg       0.78      0.65      0.69       622\n",
      "weighted avg       0.88      0.89      0.88       622\n",
      "\n"
     ]
    },
    {
     "data": {
      "image/png": "[encoded data removed]",
      "text/plain": [
       "<Figure size 432x288 with 2 Axes>"
      ]
     },
     "metadata": {
      "needs_background": "light"
     },
     "output_type": "display_data"
    }
   ],
   "source": [
    "forest_clf1 = RandomForestClassifier(n_estimators=400, random_state=42, class_weight=\"balanced\")\n",
    "\n",
    "_= forest_clf1.fit(x_train_v1, y_train_v1)\n",
    "    \n",
    "#X_test = preprocess_pipeline.transform(test_data)\n",
    "y_pred1 = forest_clf1.predict(x_test_v1)\n",
    "results1 = confusion_matrix(y_test_v1, y_pred1)\n",
    "plot_confusion_matrix(results1, range(1, 3), normalize=True)\n",
    "print(classification_report(y_test_v1, y_pred1))"
   ]
  },
  {
   "cell_type": "markdown",
   "metadata": {},
   "source": [
    "### 2.2 Confusion Matrix - GradientBoosting"
   ]
  },
  {
   "cell_type": "code",
   "execution_count": 20,
   "metadata": {},
   "outputs": [
    {
     "name": "stdout",
     "output_type": "stream",
     "text": [
      "Normalized confusion matrix\n",
      "              precision    recall  f1-score   support\n",
      "\n",
      "           0       0.93      0.98      0.95       544\n",
      "           1       0.76      0.50      0.60        78\n",
      "\n",
      "    accuracy                           0.92       622\n",
      "   macro avg       0.85      0.74      0.78       622\n",
      "weighted avg       0.91      0.92      0.91       622\n",
      "\n"
     ]
    },
    {
     "data": {
      "image/png": "[encoded data removed]",
      "text/plain": [
       "<Figure size 432x288 with 2 Axes>"
      ]
     },
     "metadata": {
      "needs_background": "light"
     },
     "output_type": "display_data"
    }
   ],
   "source": [
    "gb_clf1 = GradientBoostingClassifier(n_estimators=400, random_state=42)\n",
    "\n",
    "_= gb_clf1.fit(x_train_v1, y_train_v1)\n",
    "y_pred2 = gb_clf1.predict(x_test_v1)\n",
    "results2 = confusion_matrix(y_test_v1, y_pred2)\n",
    "plot_confusion_matrix(results2, range(1, 3), normalize=True)\n",
    "print(classification_report(y_test_v1, y_pred2))"
   ]
  },
  {
   "cell_type": "markdown",
   "metadata": {},
   "source": [
    "### 2.3 Confusion Matrix - Decision Tree"
   ]
  },
  {
   "cell_type": "code",
   "execution_count": 21,
   "metadata": {},
   "outputs": [
    {
     "name": "stdout",
     "output_type": "stream",
     "text": [
      "Normalized confusion matrix\n",
      "              precision    recall  f1-score   support\n",
      "\n",
      "           0       0.94      0.94      0.94       544\n",
      "           1       0.58      0.59      0.59        78\n",
      "\n",
      "    accuracy                           0.90       622\n",
      "   macro avg       0.76      0.76      0.76       622\n",
      "weighted avg       0.90      0.90      0.90       622\n",
      "\n"
     ]
    },
    {
     "data": {
      "image/png": "[encoded data removed]",
      "text/plain": [
       "<Figure size 432x288 with 2 Axes>"
      ]
     },
     "metadata": {
      "needs_background": "light"
     },
     "output_type": "display_data"
    }
   ],
   "source": [
    "dt_clf1 = DecisionTreeClassifier(random_state=42)\n",
    "\n",
    "_= dt_clf1.fit(x_train_v1, y_train_v1)\n",
    "    \n",
    "y_pred3 = dt_clf1.predict(x_test_v1)\n",
    "results3 = confusion_matrix(y_test_v1, y_pred3)\n",
    "plot_confusion_matrix(results3, range(1, 3), normalize=True)\n",
    "print(classification_report(y_test_v1, y_pred3))"
   ]
  },
  {
   "cell_type": "markdown",
   "metadata": {},
   "source": [
    "#### Results Summary\n",
    "- Compared to above three models, we find out although accuracy is high, precision and recall for minority class (Bankruptcy) is low. \n",
    "- Gradient Boosting Model is the best choice so far !!!"
   ]
  },
  {
   "cell_type": "markdown",
   "metadata": {},
   "source": [
    "# Extra credit opportunities\n",
    "- Address the issue of: classes being imbalanced\n",
    "- Address the issue of: Different importance of each type of misclassification\n",
    "    - It is 5 times worse to misclassify a company that *does go bankrupt* than to misclassify a company that does not go bankrupt\n",
    "        - Suppose we invest in a company for which we predict it will not go bankrupt\n",
    "            - We incur substantial losses for a bad investment\n",
    "        - The loss from not investing in a company that we incorrectly classify as going bankrupt is small (opportunity cost)"
   ]
  },
  {
   "cell_type": "code",
   "execution_count": 22,
   "metadata": {},
   "outputs": [],
   "source": [
    "#Look at the entired imbalanced data"
   ]
  },
  {
   "cell_type": "code",
   "execution_count": 23,
   "metadata": {},
   "outputs": [
    {
     "name": "stdout",
     "output_type": "stream",
     "text": [
      "0    2697\n",
      "1     410\n",
      "Name: Bankrupt, dtype: int64\n"
     ]
    }
   ],
   "source": [
    "print(data['Bankrupt'].value_counts())"
   ]
  },
  {
   "cell_type": "markdown",
   "metadata": {},
   "source": [
    "# Oversampling Imbalanced Data"
   ]
  },
  {
   "cell_type": "code",
   "execution_count": 24,
   "metadata": {},
   "outputs": [],
   "source": [
    "from imblearn.over_sampling import (RandomOverSampler, \n",
    "                                    SMOTE, \n",
    "                                    ADASYN)\n",
    "\n",
    "# SMOTE\n",
    "sampler = SMOTE(ratio=1,random_state=0)\n",
    "X_rs, y_rs = sampler.fit_sample(x_train_v1, y_train_v1)"
   ]
  },
  {
   "cell_type": "markdown",
   "metadata": {},
   "source": [
    "# Fitting Models\n",
    "### 1. Calculate Cross Validation Score and Accuracy Score"
   ]
  },
  {
   "cell_type": "code",
   "execution_count": 25,
   "metadata": {},
   "outputs": [
    {
     "name": "stdout",
     "output_type": "stream",
     "text": [
      "Model: Random Forest avg cross val score=0.93 accuracy=0.86\n",
      "\n",
      "Model: GradientBoosting avg cross val score=0.89 accuracy=0.85\n",
      "\n",
      "Model: DecisionTree avg cross val score=0.87 accuracy=0.82\n",
      "\n"
     ]
    }
   ],
   "source": [
    "forest_clf2 = RandomForestClassifier(n_estimators=400, random_state=42, class_weight=\"balanced\")\n",
    "\n",
    "gb_clf2= GradientBoostingClassifier(n_estimators=400, random_state=42)\n",
    "\n",
    "dt_clf2 = DecisionTreeClassifier(random_state=42)\n",
    "\n",
    "for name, clf2 in { \"Random Forest\": forest_clf2,\n",
    "                   \"GradientBoosting\":gb_clf2,\n",
    "                   \"DecisionTree\":dt_clf2\n",
    "                 }.items():\n",
    "    \n",
    "\n",
    "    _= clf2.fit(X_rs, y_rs)\n",
    "    y_pred = clf2.predict(x_test_v1)\n",
    "\n",
    "    scores = cross_val_score(clf2, X_rs, y_rs, cv=10)\n",
    "    accuracy=accuracy_score(y_test_v1,y_pred,normalize=True)\n",
    "    \n",
    "    print(\"Model: {m:s} avg cross val score={s:3.2f} accuracy={a:3.2f}\\n\".format(m=name, s=scores.mean(), a=accuracy))\n"
   ]
  },
  {
   "cell_type": "markdown",
   "metadata": {},
   "source": [
    "## 2. Confusion Matrix"
   ]
  },
  {
   "cell_type": "markdown",
   "metadata": {},
   "source": [
    "### 2.1 Confusion Matrix - Random Forest"
   ]
  },
  {
   "cell_type": "code",
   "execution_count": 26,
   "metadata": {},
   "outputs": [
    {
     "name": "stdout",
     "output_type": "stream",
     "text": [
      "Normalized confusion matrix\n",
      "              precision    recall  f1-score   support\n",
      "\n",
      "           0       0.94      0.91      0.92       544\n",
      "           1       0.47      0.58      0.52        78\n",
      "\n",
      "    accuracy                           0.86       622\n",
      "   macro avg       0.70      0.74      0.72       622\n",
      "weighted avg       0.88      0.86      0.87       622\n",
      "\n"
     ]
    },
    {
     "data": {
      "image/png": "[encoded data removed]",
      "text/plain": [
       "<Figure size 432x288 with 2 Axes>"
      ]
     },
     "metadata": {
      "needs_background": "light"
     },
     "output_type": "display_data"
    }
   ],
   "source": [
    "forest_clf3 = RandomForestClassifier(n_estimators=400, random_state=42, class_weight=\"balanced\")\n",
    "\n",
    "_= forest_clf3.fit(X_rs, y_rs)\n",
    "    \n",
    "y_pred4 = forest_clf3.predict(x_test_v1)\n",
    "results4 = confusion_matrix(y_test_v1, y_pred4)\n",
    "plot_confusion_matrix(results4, range(1, 3), normalize=True)\n",
    "print(classification_report(y_test_v1, y_pred4))"
   ]
  },
  {
   "cell_type": "markdown",
   "metadata": {},
   "source": [
    "### 2.2 Confusion Matrix - Gradient Boosting"
   ]
  },
  {
   "cell_type": "code",
   "execution_count": 27,
   "metadata": {},
   "outputs": [
    {
     "name": "stdout",
     "output_type": "stream",
     "text": [
      "Normalized confusion matrix\n",
      "              precision    recall  f1-score   support\n",
      "\n",
      "           0       0.95      0.87      0.91       544\n",
      "           1       0.43      0.69      0.53        78\n",
      "\n",
      "    accuracy                           0.85       622\n",
      "   macro avg       0.69      0.78      0.72       622\n",
      "weighted avg       0.89      0.85      0.86       622\n",
      "\n"
     ]
    },
    {
     "data": {
      "image/png": "[encoded data removed]",
      "text/plain": [
       "<Figure size 432x288 with 2 Axes>"
      ]
     },
     "metadata": {
      "needs_background": "light"
     },
     "output_type": "display_data"
    }
   ],
   "source": [
    "gb_clf3 = GradientBoostingClassifier(n_estimators=400, random_state=42)\n",
    "\n",
    "_= gb_clf3.fit(X_rs, y_rs)\n",
    "y_pred5 = gb_clf3.predict(x_test_v1)\n",
    "results5 = confusion_matrix(y_test_v1, y_pred5)\n",
    "plot_confusion_matrix(results5, range(1, 3), normalize=True)\n",
    "print(classification_report(y_test_v1, y_pred5))"
   ]
  },
  {
   "cell_type": "markdown",
   "metadata": {},
   "source": [
    "### 2.3 Confusion Matrix - Decision Tree"
   ]
  },
  {
   "cell_type": "code",
   "execution_count": 28,
   "metadata": {},
   "outputs": [
    {
     "name": "stdout",
     "output_type": "stream",
     "text": [
      "Normalized confusion matrix\n",
      "              precision    recall  f1-score   support\n",
      "\n",
      "           0       0.93      0.86      0.89       544\n",
      "           1       0.36      0.55      0.43        78\n",
      "\n",
      "    accuracy                           0.82       622\n",
      "   macro avg       0.64      0.70      0.66       622\n",
      "weighted avg       0.86      0.82      0.83       622\n",
      "\n"
     ]
    },
    {
     "data": {
      "image/png": "[encoded data removed]",
      "text/plain": [
       "<Figure size 432x288 with 2 Axes>"
      ]
     },
     "metadata": {
      "needs_background": "light"
     },
     "output_type": "display_data"
    }
   ],
   "source": [
    "dt_clf3 = DecisionTreeClassifier(random_state=42)\n",
    "\n",
    "_= dt_clf3.fit(X_rs, y_rs)\n",
    "    \n",
    "y_pred6 = dt_clf3.predict(x_test_v1)\n",
    "results6 = confusion_matrix(y_test_v1, y_pred6)\n",
    "plot_confusion_matrix(results6, range(1, 3), normalize=True)\n",
    "print(classification_report(y_test_v1, y_pred6))"
   ]
  },
  {
   "cell_type": "markdown",
   "metadata": {},
   "source": [
    "#### Summary\n",
    "- After doing oversampling for the original data, we could find out precision and recall in Bankruptcy predicion increase in above models, but accuracy decreases at the same time.\n",
    "- Precision and recall are important metrics for minority class.\n",
    "- It's trade off results when we look at the confusion matrix. \n",
    "- Gradient Boosting Model is the best after we look at all the results."
   ]
  },
  {
   "cell_type": "markdown",
   "metadata": {},
   "source": [
    "# Prediction-My Model"
   ]
  },
  {
   "cell_type": "code",
   "execution_count": 29,
   "metadata": {},
   "outputs": [
    {
     "name": "stdout",
     "output_type": "stream",
     "text": [
      "Test file:  ./data/test.csv\n",
      "<class 'pandas.core.frame.DataFrame'>\n",
      "RangeIndex: 1000 entries, 0 to 999\n",
      "Data columns (total 10 columns):\n",
      "X39    1000 non-null float64\n",
      "X41    1000 non-null float64\n",
      "X27    1000 non-null float64\n",
      "X21    1000 non-null float64\n",
      "X13    1000 non-null float64\n",
      "X1     1000 non-null float64\n",
      "X15    1000 non-null float64\n",
      "X16    1000 non-null float64\n",
      "X28    1000 non-null float64\n",
      "X55    1000 non-null float64\n",
      "dtypes: float64(10)\n",
      "memory usage: 78.2 KB\n",
      "None\n",
      "[1 1 0 0 0 0 1 0 0 0 0 0 1 0 0 1 0 0 0 0 0 0 0 0 0 0 0 1 0 0 1 0 1 0 1 1 0\n",
      " 0 1 0 0 0 0 0 0 0 0 1 0 0 1 0 0 1 0 0 0 0 0 0 0 0 0 0 0 0 0 1 0 0 0 0 0 0\n",
      " 0 0 0 1 0 0 0 0 0 1 0 0 0 1 0 1 1 0 0 0 0 0 1 0 0 0 0 0 0 0 0 0 0 0 0 0 0\n",
      " 0 0 1 0 1 0 0 1 0 0 1 1 0 0 0 0 0 1 0 1 1 1 1 0 1 1 0 0 0 0 0 1 0 0 0 0 0\n",
      " 1 1 0 0 0 0 0 0 1 0 0 0 0 1 0 1 0 1 1 1 0 1 0 0 1 0 0 0 0 1 0 0 0 0 0 0 0\n",
      " 0 1 1 0 0 0 1 1 0 1 1 0 1 0 0 0 0 1 0 0 1 1 0 0 0 1 1 0 0 0 0 0 0 0 0 0 1\n",
      " 0 1 0 0 0 0 1 0 0 0 1 1 0 0 0 0 0 0 0 0 0 0 0 1 0 0 1 0 0 1 0 1 1 0 0 1 0\n",
      " 1 0 0 0 0 0 1 0 0 1 0 0 1 0 1 1 0 0 0 0 0 0 1 1 0 0 0 0 0 0 0 0 0 0 1 0 0\n",
      " 1 0 0 0 0 0 0 0 0 0 0 0 0 0 0 0 0 1 0 1 0 1 1 0 0 0 0 1 1 1 0 0 1 1 0 1 0\n",
      " 1 0 0 0 0 1 0 0 0 0 0 0 1 1 1 1 0 1 1 0 0 0 0 0 0 0 1 0 1 0 0 0 0 0 1 0 0\n",
      " 0 0 0 0 0 0 0 0 0 0 1 0 0 1 1 0 0 0 0 0 1 0 1 0 0 0 1 0 0 0 0 0 0 0 1 1 0\n",
      " 0 1 1 0 0 0 0 1 0 0 0 0 0 1 0 0 0 0 0 0 0 0 0 0 0 1 0 1 0 0 1 0 0 1 1 0 0\n",
      " 0 0 0 0 0 0 0 0 0 0 0 0 1 0 0 0 0 0 0 0 0 0 0 1 0 1 0 0 0 0 0 1 0 1 0 0 1\n",
      " 0 0 0 1 0 1 0 0 0 0 0 1 1 0 0 0 0 1 0 1 0 0 1 0 1 0 0 1 1 1 0 0 0 0 0 1 1\n",
      " 0 1 1 1 0 0 0 0 0 0 0 0 0 0 1 0 0 0 0 0 0 0 0 1 1 1 1 0 0 0 1 0 0 0 0 0 0\n",
      " 0 0 0 0 0 1 0 0 1 0 1 0 0 0 1 0 0 0 0 1 0 1 0 1 1 0 0 0 0 0 0 1 0 1 0 0 1\n",
      " 0 1 0 0 0 0 0 0 0 0 0 1 0 0 1 0 1 0 1 1 1 1 0 0 0 1 0 0 0 0 0 0 1 1 0 0 0\n",
      " 0 1 1 0 0 0 1 0 0 0 1 0 0 1 0 0 0 0 0 0 0 0 1 1 1 1 1 0 0 0 0 0 1 0 1 0 1\n",
      " 0 0 0 0 1 0 0 0 0 0 1 0 0 0 1 1 0 0 0 0 0 0 0 1 0 0 0 1 1 0 0 1 0 0 0 1 0\n",
      " 0 0 1 0 0 0 1 0 0 1 0 0 1 0 0 0 0 0 0 0 1 0 0 0 0 0 0 0 0 0 0 0 0 1 1 0 1\n",
      " 0 0 1 0 0 0 1 0 0 0 0 0 0 0 0 0 1 0 0 0 0 0 0 1 0 0 0 0 1 0 1 0 0 1 0 0 0\n",
      " 0 0 1 0 0 0 0 1 0 1 0 0 1 0 0 1 1 0 0 0 0 0 0 1 1 1 0 0 0 1 1 0 0 1 0 0 0\n",
      " 0 0 0 0 0 1 0 1 0 1 0 1 1 0 1 0 0 0 0 0 0 0 1 0 0 1 1 0 0 0 1 0 1 0 0 0 0\n",
      " 1 0 1 1 0 0 0 1 0 1 1 0 1 0 0 1 1 0 0 0 0 1 0 0 0 0 0 1 0 0 0 0 0 0 0 0 0\n",
      " 0 1 0 0 0 0 0 0 0 0 1 0 1 0 0 0 0 0 0 0 0 0 1 0 0 0 1 0 0 1 0 1 0 0 1 0 0\n",
      " 0 1 0 0 0 0 1 0 0 0 0 0 0 0 0 0 0 1 0 0 0 0 0 0 0 1 1 0 1 1 0 0 1 0 0 1 0\n",
      " 0 1 0 0 0 0 1 0 0 0 0 1 0 0 1 0 0 1 0 0 0 0 1 0 0 0 0 1 0 0 0 0 0 1 0 0 0\n",
      " 0]\n"
     ]
    }
   ],
   "source": [
    "TEST_PATH = \"./data\"\n",
    "\n",
    "import pandas as pd\n",
    "import os\n",
    "\n",
    "testFileName = os.path.join(TEST_PATH, \"test.csv\")\n",
    "\n",
    "def MyModel(fileName=None):\n",
    "    print(\"Test file: \", fileName)\n",
    "    \n",
    "    # It should create an array of predictions; we initialize it to the empty array for convenience\n",
    "    predictions = []\n",
    "    \n",
    "    # YOUR CODE GOES HERE\n",
    "    test = pd.read_csv(fileName)\n",
    "    test = test.replace('?',np.nan)\n",
    "    \n",
    "    \n",
    "    num_pipeline_test = Pipeline([\n",
    "        (\"select_numeric\", DataFrameSelector(test.columns)),\n",
    "        (\"imputer\", SimpleImputer(strategy=\"median\")),\n",
    "    ])\n",
    "    \n",
    "    x_test_new = num_pipeline_test.fit_transform(test)\n",
    "    x_test = pd.DataFrame(data=x_test_new,columns=test.columns)  \n",
    "    \n",
    "\n",
    "    columns_name=x_2.columns\n",
    "    x_test=x_test[columns_name]\n",
    "    \n",
    "    print(x_test.info())\n",
    "\n",
    "    gb_clf_final = GradientBoostingClassifier(n_estimators=400, random_state=42)\n",
    "\n",
    "    _= gb_clf_final.fit(x_train_v1, y_train_v1)\n",
    "    predictions = gb_clf_final.predict(x_test)\n",
    "    \n",
    "    print(predictions)\n",
    "    return predictions\n",
    "\n",
    "predicts = MyModel(fileName=testFileName)"
   ]
  },
  {
   "cell_type": "code",
   "execution_count": null,
   "metadata": {},
   "outputs": [],
   "source": []
  }
 ],
 "metadata": {
  "kernelspec": {
   "display_name": "Python 3",
   "language": "python",
   "name": "python3"
  },
  "language_info": {
   "codemirror_mode": {
    "name": "ipython",
    "version": 3
   },
   "file_extension": ".py",
   "mimetype": "text/x-python",
   "name": "python",
   "nbconvert_exporter": "python",
   "pygments_lexer": "ipython3",
   "version": "3.7.3"
  },
  "toc": {
   "base_numbering": 1,
   "nav_menu": {},
   "number_sections": true,
   "sideBar": true,
   "skip_h1_title": false,
   "title_cell": "Table of Contents",
   "title_sidebar": "Contents",
   "toc_cell": false,
   "toc_position": {},
   "toc_section_display": true,
   "toc_window_display": false
  }
 },
 "nbformat": 4,
 "nbformat_minor": 2
}
